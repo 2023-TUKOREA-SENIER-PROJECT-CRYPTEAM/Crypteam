{
 "cells": [
  {
   "cell_type": "code",
   "execution_count": null,
   "metadata": {},
   "outputs": [],
   "source": [
    "import pandas as pd\n",
    "import keras\n",
    "from keras.layers import Input, Dense, LSTM, Conv1D, \\\n",
    "    BatchNormalization, Dropout, MaxPooling1D, Flatten\n",
    "import tensorflow as tf\n",
    "import matplotlib.pyplot as plt\n",
    "from Indicator import *\n",
    "from DataScaler import *\n",
    "from tensorflow.keras.utils import to_categorical"
   ]
  },
  {
   "cell_type": "code",
   "execution_count": null,
   "metadata": {},
   "outputs": [],
   "source": [
    "data = pd.read_csv(\"labeled_data_120.csv\").drop([\"Unnamed: 0\"],axis=1)\n",
    "data.head()"
   ]
  },
  {
   "cell_type": "code",
   "execution_count": null,
   "metadata": {},
   "outputs": [],
   "source": [
    "data = data[data.label != 2].reset_index(drop=True)"
   ]
  },
  {
   "cell_type": "code",
   "execution_count": null,
   "metadata": {},
   "outputs": [],
   "source": [
    "def checking_labeling(labeling_data):\n",
    "    step = 1000\n",
    "    for i in range(0, len(labeling_data), step):\n",
    "        name = str(labeling_data.iloc[i][\"datetime\"])+ \" ~ \" + str(labeling_data.iloc[i + step - 1][\"datetime\"])\n",
    "        fig = plt.figure(figsize=(16,9))\n",
    "        fig = plt.title(name)\n",
    "        fig = plt.plot(labeling_data.iloc[i:i + step][\"datetime\"], labeling_data.iloc[i:i + step][\"close\"])\n",
    "        for j in range(i, i + step):\n",
    "            if labeling_data.iloc[j][\"label\"] == 0:\n",
    "                fig = plt.scatter(labeling_data.iloc[j][\"datetime\"], labeling_data.iloc[j][\"close\"], color = \"r\")\n",
    "            if labeling_data.iloc[j][\"label\"] == 1:\n",
    "                fig = plt.scatter(labeling_data.iloc[j][\"datetime\"], labeling_data.iloc[j][\"close\"], color = \"b\")\n",
    "        \n",
    "        plt.savefig(\"Labeling_picture/\" + name + \".png\")"
   ]
  },
  {
   "cell_type": "code",
   "execution_count": null,
   "metadata": {},
   "outputs": [],
   "source": [
    "parameter = [\n",
    "        {\"rsi\" : {\"period\" : 14}},\n",
    "        {\"ma\" : {\"period\" : 7}},\n",
    "        {\"ma\" : {\"period\" : 25}},\n",
    "        {\"ema\" :{\"period\" : 7}},\n",
    "        {\"ema\" :{\"period\" : 25}},\n",
    "        {\"stochastic\" : {\"n\" : 14,\"m\" : 5,\"t\" : 5}},\n",
    "        {\"bb\" : {\"length\" : 21,\"std\" : 2}},\n",
    "        {\"kdj\" : {}},\n",
    "        {\"macd\" : {\"fast_period\": 12, \"slow_period\" : 26}}\n",
    "]\n",
    "DataManageBot = DataManage(data, parameter = parameter)\n",
    "data = DataManageBot.get_data()\n",
    "data.head()"
   ]
  },
  {
   "cell_type": "code",
   "execution_count": null,
   "metadata": {},
   "outputs": [],
   "source": [
    "# test_size = int(len(df) * 0.2)\n",
    "test_size = 1440 * 30\n",
    "X,Y = data.drop(['label','datetime'],axis = 1),data['label']\n",
    "X = Data_StandardScaler(X)\n",
    "\n",
    "x_train = X[:-test_size]\n",
    "y_train = Y[:-test_size]\n",
    "x_test = X[-test_size:]\n",
    "y_test = Y[-test_size:]\n",
    "x_train.shape,y_train.shape"
   ]
  },
  {
   "cell_type": "code",
   "execution_count": null,
   "metadata": {},
   "outputs": [],
   "source": [
    "model = keras.models.Sequential()\n",
    "model.add(keras.layers.Dense(256,input_shape = (x_train.shape[1],)))\n",
    "model.add(keras.layers.Dropout(0.1))\n",
    "model.add(keras.layers.Dense(128,activation=\"relu\"))\n",
    "model.add(keras.layers.Dropout(0.1))\n",
    "model.add(keras.layers.Dense(64,activation=\"relu\"))\n",
    "model.add(keras.layers.Dropout(0.1))\n",
    "model.add(keras.layers.Dense(32,activation=\"relu\"))\n",
    "model.add(keras.layers.Dropout(0.1))\n",
    "model.add(keras.layers.Dense(1,activation=\"sigmoid\"))\n",
    "model.compile(optimizer=tf.keras.optimizers.Adam(learning_rate=0.001),\n",
    "                    metrics=[tf.keras.metrics.BinaryAccuracy()],\n",
    "                    loss = tf.keras.losses.BinaryCrossentropy())"
   ]
  },
  {
   "cell_type": "code",
   "execution_count": null,
   "metadata": {},
   "outputs": [],
   "source": [
    "model.fit(x_train,y_train,epochs=10)"
   ]
  },
  {
   "cell_type": "code",
   "execution_count": null,
   "metadata": {},
   "outputs": [],
   "source": [
    "pred = model.predict(x_test)\n",
    "pred[:10]"
   ]
  },
  {
   "cell_type": "code",
   "execution_count": null,
   "metadata": {},
   "outputs": [],
   "source": [
    "data = pd.read_csv(\"testlabel.csv\").drop([\"Unnamed: 0\"],axis=1)\n",
    "df = data\n",
    "df = add_rsi(df)\n",
    "df = add_ma(df,period=7)\n",
    "df = add_ema(df,period=7)\n",
    "df = add_ma(df,period=25)\n",
    "df = add_ema(df,period=25)\n",
    "df = add_ma(df,period=99)\n",
    "df = add_ema(df,period=99)\n",
    "df = add_stochastic(df)\n",
    "df = add_bb(df,length=21)\n",
    "df = add_disparity(df,period=25)\n",
    "df = add_macd(df)\n",
    "df = add_kdj(df)\n",
    "df = df.dropna()\n",
    "df\n",
    "x = df.drop(['datetime','label'],axis=1)\n",
    "y = df.label\n",
    "# x,y = make_dataset(x,y)\n",
    "print(x.shape, y.shape)\n",
    "# test_size = int(len(df) * 0.2)\n",
    "test_size = 1440 * 30\n",
    "X,Y = df.drop(['label','datetime'],axis = 1),df['label']\n",
    "X = Data_StandardScaler(X)\n",
    "\n",
    "x_train = X[:-test_size]\n",
    "y_train = Y[:-test_size]\n",
    "x_test = X[-test_size:]\n",
    "y_test = Y[-test_size:]\n",
    "x_train.shape,y_train.shape"
   ]
  },
  {
   "cell_type": "code",
   "execution_count": null,
   "metadata": {},
   "outputs": [],
   "source": [
    "pred = model.predict(x_test)\n",
    "pred[:10]"
   ]
  },
  {
   "cell_type": "code",
   "execution_count": null,
   "metadata": {},
   "outputs": [],
   "source": [
    "result_label = []\n",
    "cnt = 0\n",
    "for i in range(len(pred)):\n",
    "    if pred[i][0] > 0.9:\n",
    "        result_label.append(1)\n",
    "    elif pred[i][0] < 0.1:\n",
    "        result_label.append(0)\n",
    "    else:\n",
    "        result_label.append(-1)\n",
    "        cnt += 1\n",
    "print(cnt)"
   ]
  },
  {
   "cell_type": "code",
   "execution_count": null,
   "metadata": {},
   "outputs": [],
   "source": [
    "ck = 0 # 정답 카운트\n",
    "cnt = 0 # 총 카운트\n",
    "report_list = []\n",
    "report_pred = []\n",
    "for i in range(len(result_label)):\n",
    "    if result_label[i] != -1:\n",
    "        if result_label[i] == y_test.iloc[i]:\n",
    "            ck += 1\n",
    "        cnt += 1\n",
    "print(\"accuracy :\",round(ck/cnt * 100,2),\"%\")"
   ]
  },
  {
   "cell_type": "code",
   "execution_count": null,
   "metadata": {},
   "outputs": [],
   "source": [
    "Data = df.iloc[-test_size:].drop([\"datetime\", \"label\"],axis = 1)\n",
    "Data"
   ]
  },
  {
   "cell_type": "code",
   "execution_count": null,
   "metadata": {},
   "outputs": [],
   "source": [
    "import matplotlib.pyplot as plt\n",
    "def checking_labeling(labeling_data):\n",
    "    step = 1000\n",
    "    for i in range(0, len(labeling_data), step):\n",
    "        name = str(labeling_data.iloc[i][\"datetime\"])+ \" ~ \" + str(labeling_data.iloc[i + step - 1][\"datetime\"])\n",
    "        fig = plt.figure(figsize=(16,9))\n",
    "        fig = plt.title(name)\n",
    "        fig = plt.plot(labeling_data.iloc[i:i + step][\"datetime\"], labeling_data.iloc[i:i + step][\"close\"])\n",
    "        for j in range(i, i + step):\n",
    "            if labeling_data.iloc[j][\"result_label\"] == 0:\n",
    "                fig = plt.scatter(labeling_data.iloc[j][\"datetime\"], labeling_data.iloc[j][\"close\"], color = \"r\")\n",
    "            if labeling_data.iloc[j][\"result_label\"] == 1:\n",
    "                fig = plt.scatter(labeling_data.iloc[j][\"datetime\"], labeling_data.iloc[j][\"close\"], color = \"b\")\n",
    "        \n",
    "        plt.savefig(\"Test_Result/\" + name + \".png\")"
   ]
  },
  {
   "cell_type": "code",
   "execution_count": null,
   "metadata": {},
   "outputs": [],
   "source": [
    "result_data = pd.concat([df.iloc[-test_size:].reset_index(), pd.DataFrame(result_label,columns=[\"result_label\"])],axis=1)\n",
    "result_data"
   ]
  },
  {
   "cell_type": "code",
   "execution_count": null,
   "metadata": {},
   "outputs": [],
   "source": [
    "checking_labeling(result_data)"
   ]
  },
  {
   "cell_type": "code",
   "execution_count": 1,
   "metadata": {},
   "outputs": [
    {
     "ename": "NameError",
     "evalue": "name 'df' is not defined",
     "output_type": "error",
     "traceback": [
      "\u001b[0;31m---------------------------------------------------------------------------\u001b[0m",
      "\u001b[0;31mNameError\u001b[0m                                 Traceback (most recent call last)",
      "\u001b[1;32m/Users/yuhyeonseog/practice django/cobok/ML/testmodel.ipynb Cell 18\u001b[0m in \u001b[0;36m<cell line: 1>\u001b[0;34m()\u001b[0m\n\u001b[0;32m----> <a href='vscode-notebook-cell:/Users/yuhyeonseog/practice%20django/cobok/ML/testmodel.ipynb#X23sZmlsZQ%3D%3D?line=0'>1</a>\u001b[0m X,Y \u001b[39m=\u001b[39m df\u001b[39m.\u001b[39mdrop([\u001b[39m'\u001b[39m\u001b[39mlabel\u001b[39m\u001b[39m'\u001b[39m,\u001b[39m'\u001b[39m\u001b[39mdatetime\u001b[39m\u001b[39m'\u001b[39m],axis \u001b[39m=\u001b[39m \u001b[39m1\u001b[39m),df[\u001b[39m'\u001b[39m\u001b[39mlabel\u001b[39m\u001b[39m'\u001b[39m]\n\u001b[1;32m      <a href='vscode-notebook-cell:/Users/yuhyeonseog/practice%20django/cobok/ML/testmodel.ipynb#X23sZmlsZQ%3D%3D?line=1'>2</a>\u001b[0m test_size \u001b[39m=\u001b[39m \u001b[39m1440\u001b[39m\u001b[39m*\u001b[39m\u001b[39m30\u001b[39m\n\u001b[1;32m      <a href='vscode-notebook-cell:/Users/yuhyeonseog/practice%20django/cobok/ML/testmodel.ipynb#X23sZmlsZQ%3D%3D?line=2'>3</a>\u001b[0m x_train \u001b[39m=\u001b[39m X[:\u001b[39m-\u001b[39mtest_size]\n",
      "\u001b[0;31mNameError\u001b[0m: name 'df' is not defined"
     ]
    }
   ],
   "source": [
    "X,Y = df.drop(['label','datetime'],axis = 1),df['label']\n",
    "test_size = 1440*30\n",
    "x_train = X[:-test_size]\n",
    "y_train = Y[:-test_size]\n",
    "x_test = X[-test_size:]\n",
    "y_test = Y[-test_size:]\n",
    "x_test['label'] = result_label\n",
    "from tqdm import tqdm\n",
    "set_amount = 0.002\n",
    "time_window = 1\n",
    "goal = 0.0015\n",
    "fee = 0.0008\n",
    "max_buy = 100000\n",
    "for k in range(0,1):\n",
    "    buy_count = 0\n",
    "    buy_price = []\n",
    "    result = 0\n",
    "    result_list = []\n",
    "    total = 0\n",
    "    win = 0\n",
    "    buy_count_list = []\n",
    "    amount = 0.000\n",
    "    average_risk = []\n",
    "    average_price = 0\n",
    "    trading = []\n",
    "    buy_index = []\n",
    "    for i in tqdm(range(10,len(x_test)-1)):\n",
    "        if x_test.iloc[i]['label'] == 0 and buy_count < max_buy:\n",
    "            buy_count += 1\n",
    "            average_price = ( average_price * amount + x_test.iloc[i]['close'] * set_amount) / (amount + set_amount)\n",
    "            amount += set_amount\n",
    "            buy_price.append(x_test.iloc[i]['close'])\n",
    "            buy_index.append(i)\n",
    "        elif x_test.iloc[i-1]['label'] == 1 and x_test.iloc[i]['label'] == -1 and buy_count != 0:\n",
    "            temp = (x_test.iloc[i]['close']-average_price) * amount - (average_price * fee * amount)\n",
    "            line = [temp,x_test.iloc[i]['close'],average_price,amount,i]\n",
    "            buy_count_list.append(buy_count)\n",
    "            if temp > 0:\n",
    "                win += 1\n",
    "            average_price = 0\n",
    "            total += 1\n",
    "            result += temp\n",
    "            buy_count = 0\n",
    "            amount = 0.000\n",
    "            buy_price.clear()\n",
    "            trading.append(line)\n",
    "        elif buy_count >= max_buy:\n",
    "            temp = (x_test.iloc[i]['close'] - average_price) * amount - (average_price * 0.0008 * amount)\n",
    "            line = [temp,x_test.iloc[i]['close'],average_price,amount,i]\n",
    "            buy_count_list.append(buy_count)\n",
    "            if temp > 0:\n",
    "                win += 1\n",
    "            average_price = 0\n",
    "            total += 1\n",
    "            result += temp\n",
    "            buy_count = 0\n",
    "            amount = 0.000\n",
    "            buy_price.clear()\n",
    "            trading.append(line)\n",
    "        if buy_count > 0:\n",
    "            average_risk.append(round((sum(buy_price)/buy_count-x_test.iloc[i]['close'])/x_test.iloc[i]['close'],2))\n",
    "        result_list.append(result)\n",
    "    buy_count_list.sort()\n",
    "    average_risk.sort()\n",
    "    print(\"k:\",k)\n",
    "    try:\n",
    "        print('평균 매매 횟수',sum(buy_count_list)/len(buy_count_list))\n",
    "        print('이익',result)\n",
    "        print('승률',win/total)\n",
    "        print(\"리스크\",average_risk[-1])\n",
    "        print(\"최대 보유\",buy_count_list[-1])\n",
    "        print(\"트레이딩 횟수:\",total)\n",
    "    except:\n",
    "        print(\"ZeroDivisionError \")"
   ]
  },
  {
   "cell_type": "code",
   "execution_count": null,
   "metadata": {},
   "outputs": [],
   "source": [
    "x_test.label.value_counts()"
   ]
  },
  {
   "cell_type": "code",
   "execution_count": null,
   "metadata": {},
   "outputs": [],
   "source": []
  }
 ],
 "metadata": {
  "kernelspec": {
   "display_name": "Python 3",
   "language": "python",
   "name": "python3"
  },
  "language_info": {
   "codemirror_mode": {
    "name": "ipython",
    "version": 3
   },
   "file_extension": ".py",
   "mimetype": "text/x-python",
   "name": "python",
   "nbconvert_exporter": "python",
   "pygments_lexer": "ipython3",
   "version": "3.10.0"
  },
  "orig_nbformat": 4
 },
 "nbformat": 4,
 "nbformat_minor": 2
}
