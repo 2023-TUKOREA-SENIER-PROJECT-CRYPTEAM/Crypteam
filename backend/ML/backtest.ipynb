{
 "cells": [
  {
   "cell_type": "code",
   "execution_count": null,
   "metadata": {},
   "outputs": [],
   "source": [
    "from Network import ensembleModel\n",
    "from DB_Manage import DB_Bot\n",
    "from DataLabeling import DataLabeling\n",
    "from DataScaler import Data_StandardScaler\n",
    "from Indicator import DataManage\n",
    "import keras\n",
    "import tensorflow as tf"
   ]
  },
  {
   "cell_type": "code",
   "execution_count": null,
   "metadata": {},
   "outputs": [],
   "source": [
    "data = DB_Bot(\"BTC_USDT_30m\").GetData()\n",
    "parameter = [\n",
    "        {\"rsi\" : {\"period\" : 14}},\n",
    "        {\"ma\" : {\"period\" : 7}},\n",
    "        {\"ma\" : {\"period\" : 25}},\n",
    "        {\"ema\" :{\"period\" : 7}},\n",
    "        {\"ema\" :{\"period\" : 25}},\n",
    "        {\"stochastic\" : {\"n\" : 14,\"m\" : 5,\"t\" : 5}},\n",
    "        {\"bb\" : {\"length\" : 21,\"std\" : 2}},\n",
    "        {\"kdj\" : {}},\n",
    "        {\"macd\" : {\"fast_period\": 12, \"slow_period\" : 26}}\n",
    "]\n",
    "DataManageBot = DataManage(data, parameter = parameter)\n",
    "data = DataManageBot.get_data()\n",
    "data = Data_StandardScaler(data.drop([\"datetime\"],axis=1))"
   ]
  },
  {
   "cell_type": "code",
   "execution_count": null,
   "metadata": {},
   "outputs": [],
   "source": [
    "data.head()"
   ]
  },
  {
   "cell_type": "code",
   "execution_count": null,
   "metadata": {},
   "outputs": [],
   "source": [
    "Labeler = DataLabeling(data, 20, \"close\")\n",
    "Labeler.run()\n",
    "Labeled_data = Labeler.data\n",
    "Labeled_data.head()"
   ]
  },
  {
   "cell_type": "code",
   "execution_count": null,
   "metadata": {},
   "outputs": [],
   "source": [
    "Labeled_data.label.value_counts()"
   ]
  },
  {
   "cell_type": "code",
   "execution_count": null,
   "metadata": {},
   "outputs": [],
   "source": [
    "test_size = 10000\n",
    "X,Y = Labeled_data.drop([\"label\"],axis=1), Labeled_data.label\n",
    "x_train = X[:-test_size]\n",
    "y_train = Y[:-test_size]\n",
    "x_test = X[-test_size:]\n",
    "y_test = Y[-test_size:]\n",
    "print(x_train.shape, y_train.shape)"
   ]
  },
  {
   "cell_type": "code",
   "execution_count": null,
   "metadata": {},
   "outputs": [],
   "source": [
    "model = keras.models.Sequential()\n",
    "model.add(keras.layers.Dense(256,input_shape = (x_train.shape[1],)))\n",
    "model.add(keras.layers.Dropout(0.1))\n",
    "model.add(keras.layers.Dense(128,activation=\"relu\"))\n",
    "model.add(keras.layers.Dropout(0.1))\n",
    "model.add(keras.layers.Dense(64,activation=\"relu\"))\n",
    "model.add(keras.layers.Dropout(0.1))\n",
    "model.add(keras.layers.Dense(32,activation=\"relu\"))\n",
    "model.add(keras.layers.Dropout(0.1))\n",
    "model.add(keras.layers.Dense(1,activation=\"sigmoid\"))\n",
    "model.compile(optimizer=tf.keras.optimizers.Adam(learning_rate=0.001),\n",
    "                    metrics=[\"accuracy\"],\n",
    "                    loss = tf.keras.losses.BinaryCrossentropy())"
   ]
  },
  {
   "cell_type": "code",
   "execution_count": null,
   "metadata": {},
   "outputs": [],
   "source": [
    "model.fit(x_train,y_train,epochs=10, batch_size=16)"
   ]
  },
  {
   "cell_type": "code",
   "execution_count": 16,
   "metadata": {},
   "outputs": [
    {
     "data": {
      "text/plain": [
       "array([[0.65271056],\n",
       "       [0.5910429 ],\n",
       "       [0.51872927],\n",
       "       ...,\n",
       "       [0.5603519 ],\n",
       "       [0.51529545],\n",
       "       [0.5689669 ]], dtype=float32)"
      ]
     },
     "execution_count": 16,
     "metadata": {},
     "output_type": "execute_result"
    }
   ],
   "source": [
    "pred = model.predict(x_test)\n",
    "pred"
   ]
  },
  {
   "cell_type": "code",
   "execution_count": 17,
   "metadata": {},
   "outputs": [
    {
     "name": "stdout",
     "output_type": "stream",
     "text": [
      "accuracy : 79.67 %\n"
     ]
    }
   ],
   "source": [
    "result_label = []\n",
    "cnt = 0\n",
    "\n",
    "for i in range(len(pred)):\n",
    "    if pred[i][0] < 0.2:\n",
    "        result_label.append(0)\n",
    "    elif pred[i][0] > 0.8:\n",
    "        result_label.append(1)\n",
    "    else:\n",
    "        result_label.append(-1)\n",
    "        \n",
    "ck = 0 # 정답 카운트\n",
    "cnt = 0 # 총 카운트\n",
    "report_list = []\n",
    "report_pred = []\n",
    "for i in range(len(result_label)):\n",
    "    if result_label[i] != -1:\n",
    "        if result_label[i] == y_test.iloc[i]:\n",
    "            ck += 1\n",
    "        cnt += 1\n",
    "print(\"accuracy :\",round(ck/cnt * 100,2),\"%\")"
   ]
  },
  {
   "cell_type": "code",
   "execution_count": 20,
   "metadata": {},
   "outputs": [
    {
     "name": "stderr",
     "output_type": "stream",
     "text": [
      "100%|██████████| 10000/10000 [00:07<00:00, 1275.70it/s]\n"
     ]
    }
   ],
   "source": [
    "from backtest import backtest\n",
    "backtestBot = backtest(data, result_label, test_size, 0.002, 0.0008, 100000)\n",
    "result = backtestBot.basicStrategy()"
   ]
  },
  {
   "cell_type": "code",
   "execution_count": 19,
   "metadata": {},
   "outputs": [
    {
     "name": "stdout",
     "output_type": "stream",
     "text": [
      "averageNumberSales : 2476.244785276074\n",
      "totalYield : -0.24557237069218374\n",
      "win_rate : 0.0\n",
      "MDD : -1.0\n",
      "max_buying : 5074\n",
      "NumberTrading : 4890\n"
     ]
    }
   ],
   "source": [
    "for i in result:\n",
    "    print(i,\":\",result[i])"
   ]
  },
  {
   "cell_type": "code",
   "execution_count": 21,
   "metadata": {},
   "outputs": [],
   "source": [
    "data.to_csv(\"debug.csv\")"
   ]
  },
  {
   "cell_type": "code",
   "execution_count": 24,
   "metadata": {},
   "outputs": [],
   "source": [
    "import pandas as pd\n",
    "pd.DataFrame(result_label).to_csv(\"debugresultlabel.csv\")"
   ]
  },
  {
   "cell_type": "code",
   "execution_count": 2,
   "metadata": {},
   "outputs": [
    {
     "ename": "NameError",
     "evalue": "name 'pred' is not defined",
     "output_type": "error",
     "traceback": [
      "\u001b[0;31m---------------------------------------------------------------------------\u001b[0m",
      "\u001b[0;31mNameError\u001b[0m                                 Traceback (most recent call last)",
      "\u001b[1;32m/Users/yuhyeonseog/practice django/cobok/ML/backtest.ipynb Cell 15\u001b[0m in \u001b[0;36m<cell line: 4>\u001b[0;34m()\u001b[0m\n\u001b[1;32m      <a href='vscode-notebook-cell:/Users/yuhyeonseog/practice%20django/cobok/ML/backtest.ipynb#X20sZmlsZQ%3D%3D?line=0'>1</a>\u001b[0m result_label \u001b[39m=\u001b[39m []\n\u001b[1;32m      <a href='vscode-notebook-cell:/Users/yuhyeonseog/practice%20django/cobok/ML/backtest.ipynb#X20sZmlsZQ%3D%3D?line=1'>2</a>\u001b[0m cnt \u001b[39m=\u001b[39m \u001b[39m0\u001b[39m\n\u001b[0;32m----> <a href='vscode-notebook-cell:/Users/yuhyeonseog/practice%20django/cobok/ML/backtest.ipynb#X20sZmlsZQ%3D%3D?line=3'>4</a>\u001b[0m \u001b[39mfor\u001b[39;00m i \u001b[39min\u001b[39;00m \u001b[39mrange\u001b[39m(\u001b[39mlen\u001b[39m(pred)):\n\u001b[1;32m      <a href='vscode-notebook-cell:/Users/yuhyeonseog/practice%20django/cobok/ML/backtest.ipynb#X20sZmlsZQ%3D%3D?line=4'>5</a>\u001b[0m     \u001b[39mif\u001b[39;00m pred[i][\u001b[39m0\u001b[39m] \u001b[39m<\u001b[39m \u001b[39m0.2\u001b[39m:\n\u001b[1;32m      <a href='vscode-notebook-cell:/Users/yuhyeonseog/practice%20django/cobok/ML/backtest.ipynb#X20sZmlsZQ%3D%3D?line=5'>6</a>\u001b[0m         result_label\u001b[39m.\u001b[39mappend(\u001b[39m0\u001b[39m)\n",
      "\u001b[0;31mNameError\u001b[0m: name 'pred' is not defined"
     ]
    }
   ],
   "source": [
    "result_label = []\n",
    "cnt = 0\n",
    "\n",
    "for i in range(len(pred)):\n",
    "    if pred[i][0] < 0.2:\n",
    "        result_label.append(0)\n",
    "    elif pred[i][0] > 0.8:\n",
    "        result_label.append(1)\n",
    "    else:\n",
    "        result_label.append(-1)\n",
    "        \n",
    "ck = 0 # 정답 카운트\n",
    "cnt = 0 # 총 카운트\n",
    "report_list = []\n",
    "report_pred = []\n",
    "for i in range(len(result_label)):\n",
    "    if result_label[i] != -1:\n",
    "        if result_label[i] == y_test.iloc[i]:\n",
    "            ck += 1\n",
    "        cnt += 1\n",
    "print(\"accuracy :\",round(ck/cnt * 100,2),\"%\")"
   ]
  },
  {
   "cell_type": "code",
   "execution_count": 5,
   "metadata": {},
   "outputs": [
    {
     "name": "stderr",
     "output_type": "stream",
     "text": [
      "/var/folders/5v/ywkv8vl52zs0xz8k0x15y8fm0000gn/T/ipykernel_58663/2578130533.py:92: SettingWithCopyWarning: \n",
      "A value is trying to be set on a copy of a slice from a DataFrame.\n",
      "Try using .loc[row_indexer,col_indexer] = value instead\n",
      "\n",
      "See the caveats in the documentation: https://pandas.pydata.org/pandas-docs/stable/user_guide/indexing.html#returning-a-view-versus-a-copy\n",
      "  x_test['label'] = self.result_label\n",
      "100%|██████████| 10000/10000 [00:05<00:00, 1902.24it/s]"
     ]
    },
    {
     "name": "stdout",
     "output_type": "stream",
     "text": [
      "{'averageNumberSales': 9.285714285714286, 'totalYield': 449.87576815999904, 'win_rate': 0.2857142857142857, 'MDD': 0.16, 'max_buying': 21, 'NumberTrading': 7}\n"
     ]
    },
    {
     "name": "stderr",
     "output_type": "stream",
     "text": [
      "\n"
     ]
    }
   ],
   "source": [
    "from tqdm import tqdm\n",
    "class backtest:\n",
    "    def __init__(self,data, result_label, test_size, set_amount, fee, max_buy):\n",
    "        self.data = data # 주가 데이터\n",
    "        self.result_label = result_label # 머신러닝의 예측값\n",
    "        self.test_size = test_size # 테스트 데이터의 길이\n",
    "        self.set_amount = set_amount # 한번 매수할 떄 수량\n",
    "        self.fee = fee # 한번 거래 할 때 수수료\n",
    "        self.max_buy = max_buy # 최대 누적 매수 횟수\n",
    "\n",
    "        # 손절형 순환매매에서 사용하는 변수\n",
    "        self.buy_flag = 0\n",
    "        self.sell_flag = 0\n",
    "\n",
    "        # 공통 사용 변수\n",
    "        self.quantityBuying = 0 # 현재 매수 수량\n",
    "        self.BuyingList = [] # 현재 매수 했던 가격들의 리스트\n",
    "        self.totalYield = 0 # 최종 수익률\n",
    "        self.totalNumberSales = 0 # 총 매도 횟수\n",
    "        self.win = 0\n",
    "        self.quantityBuyingList = [] # 매수 수량을 저장하는 리스트\n",
    "        self.amount = 0 # 현재 가지고 있는 주식 수량\n",
    "        self.MDDList = [] # MDD를 계산하기 위한 리스트\n",
    "        self.average_price = 0 # 평단가\n",
    "\n",
    "        self.trading_history = []\n",
    "    def initializes(self):\n",
    "        self.buy_flag = 0\n",
    "        self.sell_flag = 0\n",
    "\n",
    "        # 공통 사용 변수\n",
    "        self.quantityBuying = 0\n",
    "        self.BuyingList = []\n",
    "        self.totalYield = 0\n",
    "        self.totalNumberSales = 0\n",
    "        self.win = 0\n",
    "        self.quantityBuyingList = []\n",
    "        self.amount = 0\n",
    "        self.MDDList = []\n",
    "        self.average_price = 0\n",
    "\n",
    "    def SellInitializes(self,currYield):\n",
    "        if currYield > 0:\n",
    "            self.win += 1\n",
    "        self.average_price = 0\n",
    "        self.totalNumberSales += 1\n",
    "        self.totalYield += currYield\n",
    "        self.amount = 0\n",
    "        self.BuyingList.clear()\n",
    "        self.quantityBuying = 0\n",
    "        self.buy_flag = 0\n",
    "        self.sell_flag = 0\n",
    "        \n",
    "\n",
    "    def basicStrategy(self):\n",
    "        x_test = self.data.iloc[-self.test_size:]\n",
    "        x_test['label'] = self.result_label\n",
    "        self.initializes()\n",
    "        for i in tqdm(range(len(x_test))):\n",
    "            \n",
    "            if x_test.iloc[i]['label'] == 1 and self.quantityBuying < self.max_buy:\n",
    "                self.quantityBuying += 1\n",
    "                self.average_price = ( self.average_price * self.amount + x_test.iloc[i]['close'] * self.set_amount) / (self.amount + self.set_amount)\n",
    "                self.amount += self.set_amount\n",
    "                self.BuyingList.append(x_test.iloc[i]['close'])\n",
    "\n",
    "            if x_test.iloc[i]['label'] == 0 and self.quantityBuying != 0:\n",
    "                currYield = (x_test.iloc[i]['close']-self.average_price) * self.amount - (self.average_price * self.fee * self.amount)\n",
    "                self.quantityBuyingList.append(self.quantityBuying)\n",
    "\n",
    "                self.SellInitializes(currYield)\n",
    "\n",
    "            if self.quantityBuying > 0:\n",
    "                self.MDDList.append(round((sum(self.BuyingList)/self.quantityBuying-x_test.iloc[i]['close'])/x_test.iloc[i]['close'],2))\n",
    "        self.quantityBuyingList.sort()\n",
    "        self.MDDList.sort()\n",
    "        \n",
    "        if len(self.quantityBuyingList) == 0 or self.totalNumberSales == 0:\n",
    "            print(\"Zero DivisionError\")\n",
    "            raise ZeroDivisionError\n",
    "        return {\n",
    "            \"averageNumberSales\" : sum(self.quantityBuyingList)/len(self.quantityBuyingList),\n",
    "            \"totalYield\" : self.totalYield,\n",
    "            \"win_rate\" : self.win/self.totalNumberSales,\n",
    "            \"MDD\" : self.MDDList[-1],\n",
    "            \"max_buying\" : self.quantityBuyingList[-1],\n",
    "            \"NumberTrading\" : self.totalNumberSales\n",
    "        }\n",
    "    \n",
    "    def WaitingStrategy(self, term = 5):\n",
    "        x_test = self.data.iloc[-self.test_size:]\n",
    "        x_test['label'] = self.result_label\n",
    "        self.initializes()\n",
    "\n",
    "        waiting = 0\n",
    "        for i in tqdm(range(len(x_test))):\n",
    "            \n",
    "            if x_test.iloc[i]['label'] == 1 and self.quantityBuying < self.max_buy and waiting > term:\n",
    "                self.quantityBuying += 1\n",
    "                self.average_price = ( self.average_price * self.amount + x_test.iloc[i]['close'] * self.set_amount) / (self.amount + self.set_amount)\n",
    "                self.amount += self.set_amount\n",
    "                self.BuyingList.append(x_test.iloc[i]['close'])\n",
    "                self.trading_history.append([\"buy\", i, None])\n",
    "\n",
    "            elif x_test.iloc[i]['label'] == 0 and self.quantityBuying != 0:\n",
    "                currYield = (x_test.iloc[i]['close']-self.average_price) * self.amount - (self.average_price * self.fee * self.amount)\n",
    "                self.quantityBuyingList.append(self.quantityBuying)\n",
    "\n",
    "                self.SellInitializes(currYield)\n",
    "                self.trading_history.append([\"sell\", i, currYield])\n",
    "                waiting = 0\n",
    "\n",
    "            if x_test.iloc[i][\"label\"] == 1:\n",
    "                waiting += 1\n",
    "\n",
    "            if self.quantityBuying > 0:\n",
    "                self.MDDList.append(round((sum(self.BuyingList)/self.quantityBuying-x_test.iloc[i]['close'])/x_test.iloc[i]['close'],2))\n",
    "        self.quantityBuyingList.sort()\n",
    "        self.MDDList.sort()\n",
    "        \n",
    "        if len(self.quantityBuyingList) == 0 or self.totalNumberSales == 0:\n",
    "            print(\"Zero DivisionError\")\n",
    "            raise ZeroDivisionError\n",
    "        return {\n",
    "            \"averageNumberSales\" : sum(self.quantityBuyingList)/len(self.quantityBuyingList),\n",
    "            \"totalYield\" : self.totalYield,\n",
    "            \"win_rate\" : self.win/self.totalNumberSales,\n",
    "            \"MDD\" : self.MDDList[-1],\n",
    "            \"max_buying\" : self.quantityBuyingList[-1],\n",
    "            \"NumberTrading\" : self.totalNumberSales\n",
    "        }\n",
    "import pandas as pd\n",
    "from DB_Manage import DB_Bot\n",
    "data = DB_Bot(\"BTC_USDT_30m\").GetData()\n",
    "result_label = pd.read_csv(\"debugresultlabel.csv\").to_numpy()[:,1].tolist()\n",
    "object = backtest(data, result_label, 10000, 0.02, 0.0008, 10000)\n",
    "print(object.WaitingStrategy(term=10))"
   ]
  },
  {
   "cell_type": "code",
   "execution_count": 9,
   "metadata": {},
   "outputs": [
    {
     "data": {
      "text/html": [
       "<div>\n",
       "<style scoped>\n",
       "    .dataframe tbody tr th:only-of-type {\n",
       "        vertical-align: middle;\n",
       "    }\n",
       "\n",
       "    .dataframe tbody tr th {\n",
       "        vertical-align: top;\n",
       "    }\n",
       "\n",
       "    .dataframe thead th {\n",
       "        text-align: right;\n",
       "    }\n",
       "</style>\n",
       "<table border=\"1\" class=\"dataframe\">\n",
       "  <thead>\n",
       "    <tr style=\"text-align: right;\">\n",
       "      <th></th>\n",
       "      <th>type</th>\n",
       "      <th>index</th>\n",
       "      <th>sell_price</th>\n",
       "    </tr>\n",
       "  </thead>\n",
       "  <tbody>\n",
       "    <tr>\n",
       "      <th>0</th>\n",
       "      <td>buy</td>\n",
       "      <td>1165</td>\n",
       "      <td>NaN</td>\n",
       "    </tr>\n",
       "    <tr>\n",
       "      <th>1</th>\n",
       "      <td>sell</td>\n",
       "      <td>1351</td>\n",
       "      <td>-0.373190</td>\n",
       "    </tr>\n",
       "    <tr>\n",
       "      <th>2</th>\n",
       "      <td>buy</td>\n",
       "      <td>2074</td>\n",
       "      <td>NaN</td>\n",
       "    </tr>\n",
       "    <tr>\n",
       "      <th>3</th>\n",
       "      <td>buy</td>\n",
       "      <td>2076</td>\n",
       "      <td>NaN</td>\n",
       "    </tr>\n",
       "    <tr>\n",
       "      <th>4</th>\n",
       "      <td>buy</td>\n",
       "      <td>2170</td>\n",
       "      <td>NaN</td>\n",
       "    </tr>\n",
       "    <tr>\n",
       "      <th>...</th>\n",
       "      <td>...</td>\n",
       "      <td>...</td>\n",
       "      <td>...</td>\n",
       "    </tr>\n",
       "    <tr>\n",
       "      <th>67</th>\n",
       "      <td>buy</td>\n",
       "      <td>8813</td>\n",
       "      <td>NaN</td>\n",
       "    </tr>\n",
       "    <tr>\n",
       "      <th>68</th>\n",
       "      <td>buy</td>\n",
       "      <td>8844</td>\n",
       "      <td>NaN</td>\n",
       "    </tr>\n",
       "    <tr>\n",
       "      <th>69</th>\n",
       "      <td>buy</td>\n",
       "      <td>8895</td>\n",
       "      <td>NaN</td>\n",
       "    </tr>\n",
       "    <tr>\n",
       "      <th>70</th>\n",
       "      <td>buy</td>\n",
       "      <td>8901</td>\n",
       "      <td>NaN</td>\n",
       "    </tr>\n",
       "    <tr>\n",
       "      <th>71</th>\n",
       "      <td>sell</td>\n",
       "      <td>8992</td>\n",
       "      <td>33.747185</td>\n",
       "    </tr>\n",
       "  </tbody>\n",
       "</table>\n",
       "<p>72 rows × 3 columns</p>\n",
       "</div>"
      ],
      "text/plain": [
       "    type  index  sell_price\n",
       "0    buy   1165         NaN\n",
       "1   sell   1351   -0.373190\n",
       "2    buy   2074         NaN\n",
       "3    buy   2076         NaN\n",
       "4    buy   2170         NaN\n",
       "..   ...    ...         ...\n",
       "67   buy   8813         NaN\n",
       "68   buy   8844         NaN\n",
       "69   buy   8895         NaN\n",
       "70   buy   8901         NaN\n",
       "71  sell   8992   33.747185\n",
       "\n",
       "[72 rows x 3 columns]"
      ]
     },
     "execution_count": 9,
     "metadata": {},
     "output_type": "execute_result"
    }
   ],
   "source": [
    "trading_history = pd.DataFrame(object.trading_history,columns=[\"type\", \"index\", \"sell_price\"])\n",
    "trading_history"
   ]
  },
  {
   "cell_type": "code",
   "execution_count": null,
   "metadata": {},
   "outputs": [],
   "source": []
  }
 ],
 "metadata": {
  "kernelspec": {
   "display_name": "env",
   "language": "python",
   "name": "python3"
  },
  "language_info": {
   "codemirror_mode": {
    "name": "ipython",
    "version": 3
   },
   "file_extension": ".py",
   "mimetype": "text/x-python",
   "name": "python",
   "nbconvert_exporter": "python",
   "pygments_lexer": "ipython3",
   "version": "3.10.0"
  },
  "orig_nbformat": 4
 },
 "nbformat": 4,
 "nbformat_minor": 2
}
